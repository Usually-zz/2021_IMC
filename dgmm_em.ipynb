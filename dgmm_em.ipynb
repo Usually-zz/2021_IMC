{
  "nbformat": 4,
  "nbformat_minor": 0,
  "metadata": {
    "colab": {
      "name": "dgmm_em.ipynb",
      "provenance": [],
      "authorship_tag": "ABX9TyPrimiO4YFZcNzg9op0UVWY",
      "include_colab_link": true
    },
    "kernelspec": {
      "name": "python3",
      "display_name": "Python 3"
    },
    "language_info": {
      "name": "python"
    }
  },
  "cells": [
    {
      "cell_type": "markdown",
      "metadata": {
        "id": "view-in-github",
        "colab_type": "text"
      },
      "source": [
        "<a href=\"https://colab.research.google.com/github/Usually-zz/2021_IMC/blob/main/dgmm_em.ipynb\" target=\"_parent\"><img src=\"https://colab.research.google.com/assets/colab-badge.svg\" alt=\"Open In Colab\"/></a>"
      ]
    },
    {
      "cell_type": "code",
      "metadata": {
        "id": "CUPaC0EMv3ph"
      },
      "source": [
        "import torch\n",
        "import numpy as np\n",
        "import scipy.stats as stats ## for mvn\n",
        "from sklearn.cluster import KMeans\n",
        "import seaborn as sns"
      ],
      "execution_count": 1,
      "outputs": []
    },
    {
      "cell_type": "code",
      "metadata": {
        "id": "1V3O9HJ40E_B"
      },
      "source": [
        "iris = sns.load_dataset(\"iris\")\n",
        "X = iris.iloc[:,:4]\n",
        "X = np.asarray(X)\n",
        "y = iris.iloc[:,4]\n",
        "\n",
        "n, p = X.shape\n",
        "c = 3"
      ],
      "execution_count": 2,
      "outputs": []
    },
    {
      "cell_type": "code",
      "metadata": {
        "id": "UJdEJl9U0MA-"
      },
      "source": [
        "kmeans = KMeans(n_clusters=c, random_state=0).fit(X)"
      ],
      "execution_count": 3,
      "outputs": []
    },
    {
      "cell_type": "code",
      "metadata": {
        "id": "AMD-4ht10TgM"
      },
      "source": [
        "mu_c = torch.tensor(kmeans.cluster_centers_)"
      ],
      "execution_count": 4,
      "outputs": []
    },
    {
      "cell_type": "code",
      "metadata": {
        "colab": {
          "base_uri": "https://localhost:8080/"
        },
        "id": "9IVoHDXXwMg5",
        "outputId": "9032a2b2-9f3c-4ee0-a833-4344b1611961"
      },
      "source": [
        "mu_c"
      ],
      "execution_count": 5,
      "outputs": [
        {
          "output_type": "execute_result",
          "data": {
            "text/plain": [
              "tensor([[6.8500, 3.0737, 5.7421, 2.0711],\n",
              "        [5.0060, 3.4280, 1.4620, 0.2460],\n",
              "        [5.9016, 2.7484, 4.3935, 1.4339]], dtype=torch.float64)"
            ]
          },
          "metadata": {
            "tags": []
          },
          "execution_count": 5
        }
      ]
    },
    {
      "cell_type": "code",
      "metadata": {
        "id": "AhcvJ56h06ha"
      },
      "source": [
        "n_c = torch.zeros(3)\n",
        "co_c = torch.zeros(c, 4, 4)\n",
        "\n",
        "for j in range(c):\n",
        "  indx = kmeans.labels_ == j\n",
        "  d = X[indx]\n",
        "  n_c[j] = sum(indx)\n",
        "  co_c[j] = torch.from_numpy(np.cov(d.T))"
      ],
      "execution_count": 5,
      "outputs": []
    },
    {
      "cell_type": "code",
      "metadata": {
        "colab": {
          "base_uri": "https://localhost:8080/"
        },
        "id": "MgH5T3Tv1mx1",
        "outputId": "3946a4b0-fe2d-4075-d376-6df3f2084141"
      },
      "source": [
        "n_c"
      ],
      "execution_count": 7,
      "outputs": [
        {
          "output_type": "execute_result",
          "data": {
            "text/plain": [
              "tensor([38., 50., 62.])"
            ]
          },
          "metadata": {
            "tags": []
          },
          "execution_count": 7
        }
      ]
    },
    {
      "cell_type": "code",
      "metadata": {
        "colab": {
          "base_uri": "https://localhost:8080/"
        },
        "id": "9biT3-IF2vqx",
        "outputId": "747de926-b86e-4754-eab1-02e36cc5c2a5"
      },
      "source": [
        "pi_c = n_c/sum(n_c)\n",
        "pi_c"
      ],
      "execution_count": 6,
      "outputs": [
        {
          "output_type": "execute_result",
          "data": {
            "text/plain": [
              "tensor([0.2533, 0.3333, 0.4133])"
            ]
          },
          "metadata": {
            "tags": []
          },
          "execution_count": 6
        }
      ]
    },
    {
      "cell_type": "code",
      "metadata": {
        "colab": {
          "base_uri": "https://localhost:8080/"
        },
        "id": "3kzcQfu61oUR",
        "outputId": "d8023883-4375-4ed0-8bef-f009c038bad5"
      },
      "source": [
        "co_c"
      ],
      "execution_count": 7,
      "outputs": [
        {
          "output_type": "execute_result",
          "data": {
            "text/plain": [
              "tensor([[[0.2442, 0.0254, 0.1773, 0.0055],\n",
              "         [0.0254, 0.0842, 0.0122, 0.0344],\n",
              "         [0.1773, 0.0122, 0.2387, 0.0253],\n",
              "         [0.0055, 0.0344, 0.0253, 0.0783]],\n",
              "\n",
              "        [[0.1242, 0.0992, 0.0164, 0.0103],\n",
              "         [0.0992, 0.1437, 0.0117, 0.0093],\n",
              "         [0.0164, 0.0117, 0.0302, 0.0061],\n",
              "         [0.0103, 0.0093, 0.0061, 0.0111]],\n",
              "\n",
              "        [[0.2175, 0.0637, 0.1343, 0.0345],\n",
              "         [0.0637, 0.0878, 0.0549, 0.0290],\n",
              "         [0.1343, 0.0549, 0.2590, 0.1214],\n",
              "         [0.0345, 0.0290, 0.1214, 0.0885]]])"
            ]
          },
          "metadata": {
            "tags": []
          },
          "execution_count": 7
        }
      ]
    },
    {
      "cell_type": "code",
      "metadata": {
        "colab": {
          "base_uri": "https://localhost:8080/"
        },
        "id": "ptpkMqJE0TKb",
        "outputId": "7d272c48-e2a0-490b-8533-6c1a09e3f62c"
      },
      "source": [
        "dd = (torch.from_numpy(np.array(X[indx])).float() - mu_c[j]).T\n",
        "torch.matmul(dd, dd.T) / sum(indx)"
      ],
      "execution_count": 7,
      "outputs": [
        {
          "output_type": "execute_result",
          "data": {
            "text/plain": [
              "tensor([[0.2140, 0.0627, 0.1321, 0.0340],\n",
              "        [0.0627, 0.0864, 0.0540, 0.0285],\n",
              "        [0.1321, 0.0540, 0.2548, 0.1194],\n",
              "        [0.0340, 0.0285, 0.1194, 0.0871]], dtype=torch.float64)"
            ]
          },
          "metadata": {
            "tags": []
          },
          "execution_count": 7
        }
      ]
    },
    {
      "cell_type": "code",
      "metadata": {
        "id": "QwoxPuiZHOQp"
      },
      "source": [
        "n_cc = torch.tensor([[10, 20, 30], [0, 15, 40], [0, 0, 35]])"
      ],
      "execution_count": 8,
      "outputs": []
    },
    {
      "cell_type": "code",
      "metadata": {
        "id": "QELITab9-vye"
      },
      "source": [
        "pi_cc = n_cc/torch.sum(n_cc)"
      ],
      "execution_count": 9,
      "outputs": []
    },
    {
      "cell_type": "code",
      "metadata": {
        "colab": {
          "base_uri": "https://localhost:8080/"
        },
        "id": "9PURvYR1_evS",
        "outputId": "93a63557-491b-4a30-b098-c2852067be9b"
      },
      "source": [
        "pi_cc"
      ],
      "execution_count": 10,
      "outputs": [
        {
          "output_type": "execute_result",
          "data": {
            "text/plain": [
              "tensor([[0.0667, 0.1333, 0.2000],\n",
              "        [0.0000, 0.1000, 0.2667],\n",
              "        [0.0000, 0.0000, 0.2333]])"
            ]
          },
          "metadata": {
            "tags": []
          },
          "execution_count": 10
        }
      ]
    },
    {
      "cell_type": "code",
      "metadata": {
        "id": "JJtzfEDkwEvt"
      },
      "source": [
        "#initialize\n",
        "pi_d = .4\n",
        "#pi_c[j]\n",
        "#pi_cc[j][k]"
      ],
      "execution_count": 10,
      "outputs": []
    },
    {
      "cell_type": "code",
      "metadata": {
        "id": "LsTqcLuMnqjG"
      },
      "source": [
        "### E-step:\n",
        "## calculate 1) pi_i => d; 2) pi_j => z; 3) pi_jk => gamma\n",
        "## first compute 2) and 3) and then 1)\n",
        "\n",
        "r_ij_top = torch.zeros(c, n)\n",
        "r_ijk_top = torch.zeros(c, c, n)\n",
        "    \n",
        "for j in range(c):\n",
        "  r_ij_top[j] = pi_d * (pi_c[j] * stats.multivariate_normal(mu_c[j], co_c[j]).pdf(X))\n",
        "  for k in range(c):\n",
        "    r_ijk_top[j,k] = (1-pi_d) * (pi_cc[j][k] * stats.multivariate_normal(mu_c[j] + mu_c[k], co_c[j] + co_c[k]).pdf(X))\n",
        "\n",
        "r_ij_bot = torch.sum(r_ij_top, 0) #for 2)\n",
        "r_ij = r_ij_top / r_ij_bot\n",
        "\n",
        "r_ijk_bot = torch.sum(torch.sum(r_ijk_top, 0), 0) #for 3)\n",
        "r_ijk = r_ijk_top / r_ijk_bot\n",
        "\n",
        "r_i = r_ij_bot / (r_ij_bot + r_ijk_bot) #for 1\n",
        "\n",
        "## compute log-likelihood\n",
        "logl = torch.sum(torch.log(r_ij_bot) + torch.log(r_ijk_bot))\n",
        "\n",
        "## predictions\n",
        "#d0pred = torch.max(r_ij, 0).indices\n",
        "#d0pred\n",
        "\n",
        "#d1pred = torch.zeros(n, 2)\n",
        "#for i in range(n):\n",
        "#  d1pred[i,:] = torch.tensor(np.unravel_index(r_ijk[:,:,i].argmax(), r_ijk[:,:,i].shape))\n",
        "#d1pred\n",
        "\n",
        "### M-step:\n",
        "\n",
        "## update pi_d\n",
        "pi_d = torch.sum(r_i) / n #(one value)\n",
        "\n",
        "## update pi_c (c values)\n",
        "n_c = torch.sum(r_i * r_ij, 1) ## number of points in n_c\n",
        "pi_c = n_c / sum(n_c)\n",
        "#pi_c = r_i * r_ij / n\n",
        "\n",
        "## update pi_cc (cxc upper triangular matrix)\n",
        "n_cc = torch.sum(((1 - r_i) * r_ijk).T, 0).T ## number of points in each n_cc\n",
        "pi_cc = n_cc / torch.sum(n_cc)\n",
        "#pi_cc = (1 - r_i) * r_ijk / n\n",
        "\n",
        "## update mu_cj and sigma_cj\n",
        "bot1 = 0; bot2 = 0\n",
        "m_top1 = 0; c_top1 = 0\n",
        "m_top2 = 0; c_top2 = 0\n",
        "\n",
        "## note i and j position switch for r_ijk\n",
        "for j in range(c):\n",
        "\n",
        "  for i in range(n):\n",
        "    \n",
        "    w1 = r_i[i] * r_ij[j,i]\n",
        "    bot1 += w1\n",
        "    \n",
        "    m_top1 += w1 * torch.tensor([X[i,:]])\n",
        "\n",
        "    top_ker1 = torch.tensor([X[i,:]]) - mu_c[j,:]\n",
        "    c_top1 += w1 * (top_ker1.T * top_ker1)\n",
        "\n",
        "    for k in range(c):\n",
        "      w2 = (1-r_i[i]) * r_ijk[j,k,i]\n",
        "      bot2 += w2\n",
        "      \n",
        "      m_top2 += w2 * (torch.tensor([X[i,:]]) - mu_c[k,:])\n",
        "      \n",
        "      top_ker2 = torch.tensor([X[i,:]]) - (mu_c[j,:] + mu_c[k,:])    \n",
        "      c_top2 += w2 * ((top_ker2.T * top_ker2) - co_c[k,:])\n",
        "\n",
        "  mu_c[j] = (m_top1 + m_top2) / (bot1 + bot2)\n",
        "  co_c[j] = (c_top1 + c_top2) / (bot1 + bot2)"
      ],
      "execution_count": 12,
      "outputs": []
    },
    {
      "cell_type": "code",
      "metadata": {
        "colab": {
          "base_uri": "https://localhost:8080/"
        },
        "id": "h1UGK_QAr8kZ",
        "outputId": "6b478540-68ca-4ca3-d9d0-accb1a7491e3"
      },
      "source": [
        "mu_c"
      ],
      "execution_count": 13,
      "outputs": [
        {
          "output_type": "execute_result",
          "data": {
            "text/plain": [
              "tensor([[6.7986, 3.0524, 5.7335, 2.0876],\n",
              "        [5.7689, 3.2681, 3.2798, 1.0297],\n",
              "        [5.8433, 3.0573, 3.7580, 1.1993]], dtype=torch.float64)"
            ]
          },
          "metadata": {
            "tags": []
          },
          "execution_count": 13
        }
      ]
    },
    {
      "cell_type": "code",
      "metadata": {
        "colab": {
          "base_uri": "https://localhost:8080/"
        },
        "id": "jTeWeLGyr-sk",
        "outputId": "c09ce5cc-6e4d-415b-88b0-e293116c711b"
      },
      "source": [
        "co_c"
      ],
      "execution_count": 14,
      "outputs": [
        {
          "output_type": "execute_result",
          "data": {
            "text/plain": [
              "tensor([[[0.3064, 0.0464, 0.2257, 0.0087],\n",
              "         [0.0464, 0.0929, 0.0299, 0.0367],\n",
              "         [0.2257, 0.0299, 0.2502, 0.0147],\n",
              "         [0.0087, 0.0367, 0.0147, 0.0751]],\n",
              "\n",
              "        [[0.2003, 0.0756, 0.1052, 0.0095],\n",
              "         [0.0756, 0.1204, 0.0193, 0.0208],\n",
              "         [0.1052, 0.0193, 0.1234, 0.0097],\n",
              "         [0.0095, 0.0208, 0.0097, 0.0382]],\n",
              "\n",
              "        [[0.2191, 0.0757, 0.1310, 0.0268],\n",
              "         [0.0757, 0.1075, 0.0398, 0.0266],\n",
              "         [0.1310, 0.0398, 0.1914, 0.0589],\n",
              "         [0.0268, 0.0266, 0.0589, 0.0563]]])"
            ]
          },
          "metadata": {
            "tags": []
          },
          "execution_count": 14
        }
      ]
    },
    {
      "cell_type": "code",
      "metadata": {
        "id": "nXdbVKufsBPb"
      },
      "source": [
        "class DGMM(object):\n",
        "  \n",
        "  def __init__(self, X, c=3):\n",
        "    self.X = np.asarray(X)\n",
        "    \n",
        "    # dimension\n",
        "    self.n, self.p = X.shape\n",
        "    self.c = c\n",
        "  \n",
        "  def _init(self):\n",
        "    self.r_i = torch.ones(self.n)\n",
        "    self.r_ij = torch.ones(self.c, self.n)\n",
        "    self.r_ijk = torch.ones(self.c, self.c, self.n)\n",
        "\n",
        "    self.n_c = torch.zeros(self.c)\n",
        "    self.n_cc = torch.zeros(self.c)\n",
        "\n",
        "    self.pi_d = torch.ones(1)\n",
        "    self.pi_c = torch.ones(self.c) / self.c\n",
        "    self.pi_cc = torch.triu(torch.ones(self.c, self.c)) / (self.c * self.c)\n",
        "\n",
        "    self.mu_c = torch.ones(self.c, self.p)\n",
        "    self.co_c = torch.zeros(self.c, self.p, self.p)\n",
        "\n",
        "  def estep(self):\n",
        "\n",
        "    ### E-step:\n",
        "    ## input: n, p, c, pi_d, pi_c, pi_cc, mu_c, co_c\n",
        "    ## output: r_i, r_ij, r_ijk, ll\n",
        "    ## calculate 1) pi_i => d; 2) pi_j => z; 3) pi_jk => gamma\n",
        "    ## first compute 2) and 3) and then 1)\n",
        "\n",
        "    r_ij_top = torch.zeros(self.c, self.n)\n",
        "    r_ijk_top = torch.zeros(self.c, self.c, self.n)\n",
        "    \n",
        "    for j in range(self.c):\n",
        "      r_ij_top[j] = self.pi_d * (self.pi_c[j] * stats.multivariate_normal(self.mu_c[j], self.co_c[j]).pdf(self.X))\n",
        "      for k in range(c):\n",
        "        r_ijk_top[j,k] = (1-self.pi_d) * (self.pi_cc[j,k] * stats.multivariate_normal(self.mu_c[j] + self.mu_c[k], self.co_c[j] + self.co_c[k]).pdf(self.X))\n",
        "\n",
        "    r_ij_bot = torch.sum(r_ij_top, 0) #for 2)\n",
        "    self.r_ij = r_ij_top / r_ij_bot\n",
        "\n",
        "    r_ijk_bot = torch.sum(torch.sum(r_ijk_top, 0), 0) #for 3)\n",
        "    self.r_ijk = r_ijk_top / r_ijk_bot\n",
        "\n",
        "    self.r_i = r_ij_bot / (r_ij_bot + r_ijk_bot) #for 1\n",
        "\n",
        "    ## compute log-likelihood\n",
        "    logl = torch.sum(torch.log(r_ij_bot) + torch.log(r_ijk_bot))\n",
        "\n",
        "    ## predictions\n",
        "    #d0pred = torch.max(r_ij, 0).indices\n",
        "    #d0pred\n",
        "\n",
        "    #d1pred = torch.zeros(n, 2)\n",
        "    #for i in range(n):\n",
        "    #  d1pred[i,:] = torch.tensor(np.unravel_index(r_ijk[:,:,i].argmax(), r_ijk[:,:,i].shape))\n",
        "    #d1pred\n",
        "\n",
        "    return(logl)\n",
        "\n",
        "  def mstep(self):\n",
        "    \n",
        "    ### M-step:\n",
        "    ## input: n, p, c, r_i, r_ij, r_ijk\n",
        "    ## output: pi_d, n_c, pi_c, n_cc, pi_cc, mu_c, co_c\n",
        "    ## update pi_d\n",
        "    self.pi_d = torch.sum(self.r_i) / self.n #(one value)\n",
        "\n",
        "    ## update pi_c (c values)\n",
        "    self.n_c = torch.sum(self.r_i * self.r_ij, 1) ## number of points in n_c\n",
        "    self.pi_c = self.n_c / sum(self.n_c)\n",
        "    #pi_c = r_i * r_ij / n\n",
        "\n",
        "    ## update pi_cc (cxc upper triangular matrix)\n",
        "    self.n_cc = torch.sum(((1 - self.r_i) * self.r_ijk).T, 0).T ## number of points in each n_cc\n",
        "    self.pi_cc = self.n_cc / torch.sum(self.n_cc)\n",
        "    #pi_cc = (1 - r_i) * r_ijk / n\n",
        "\n",
        "    ## update mu_cj and sigma_cj\n",
        "    bot1 = 0; bot2 = 0\n",
        "    m_top1 = 0; c_top1 = 0\n",
        "    m_top2 = 0; c_top2 = 0\n",
        "\n",
        "    ## note i and j position switch for r_ijk\n",
        "    for j in range(self.c):\n",
        "      \n",
        "      for i in range(self.n):\n",
        "\n",
        "        w1 = self.r_i[i] * self.r_ij[j,i]\n",
        "        bot1 += w1\n",
        "\n",
        "        m_top1 += w1 * torch.tensor([self.X[i,:]])\n",
        "\n",
        "        top_ker1 = torch.tensor([self.X[i,:]]) - self.mu_c[j,:]\n",
        "        c_top1 += w1 * (top_ker1.T * top_ker1)\n",
        "\n",
        "        for k in range(self.c):\n",
        "          w2 = (1-self.r_i[i]) * self.r_ijk[j,k,i]\n",
        "          bot2 += w2\n",
        "\n",
        "          m_top2 += w2 * (torch.tensor([self.X[i,:]]) - self.mu_c[k,:])\n",
        "\n",
        "          top_ker2 = torch.tensor([self.X[i,:]]) - (self.mu_c[j,:] + self.mu_c[k,:])    \n",
        "          c_top2 += w2 * ((top_ker2.T * top_ker2) - self.co_c[k,:])\n",
        "\n",
        "      self.mu_c[j] = (m_top1 + m_top2) / (bot1 + bot2)\n",
        "      self.co_c[j] = (c_top1 + c_top2) / (bot1 + bot2)\n"
      ],
      "execution_count": null,
      "outputs": []
    },
    {
      "cell_type": "code",
      "metadata": {
        "id": "H1BYSEbaqwls"
      },
      "source": [
        "class DGMM(object):\n",
        "  \n",
        "  def __init__(self, X, c=3):\n",
        "    self.X = np.asarray(X)\n",
        "    \n",
        "    # dimension\n",
        "    self.n, self.p = X.shape\n",
        "    self.c = c\n",
        "  \n",
        "  def _init(self):\n",
        "    self.r_i = torch.ones(self.n)\n",
        "    self.r_ij = torch.ones(self.c, self.n)\n",
        "    self.r_ijk = torch.ones(self.c, self.c, self.n)\n",
        "\n",
        "    self.n_c = torch.zeros(self.c)\n",
        "    self.n_cc = torch.zeros(self.c)\n",
        "\n",
        "    self.pi_d = torch.ones(1)\n",
        "    self.pi_c = torch.ones(self.c) / self.c\n",
        "    self.pi_cc = torch.triu(torch.ones(self.c, self.c)) / (self.c * self.c)\n",
        "\n",
        "    self.mu_c = torch.ones(self.c, self.p)\n",
        "    self.co_c = torch.zeros(self.c, self.p, self.p)\n",
        "  \n",
        "  def train(self, itermax=100):\n",
        "    \n",
        "    self._init() \n",
        "    #self.gmmKmeansInitial() ## work on this!!!\n",
        "    \n",
        "    llv = [0.0]\n",
        "    for iter in range(itermax):\n",
        "      lli = self.estep()\n",
        "      self.mstep()\n",
        "      \n",
        "      print('Iteration', iter + 1, 'Likelihood: ', lli)\n",
        "        \n",
        "      if abs(llv[-1] - lli) < 1e-4:\n",
        "        break \n",
        "      \n",
        "      llv.append(lli)\n",
        "    return llv[1:]\n",
        "\n",
        "  def estep(self):\n",
        "    \n",
        "    ### E-step:\n",
        "    ## calculate 1) pi_i => d; 2) pi_j => z; 3) pi_jk => gamma\n",
        "    ## first compute 2) and 3) and then 1)\n",
        "    \n",
        "    r_ij_top = torch.zeros(self.c, self.n)\n",
        "    r_ijk_top = torch.zeros(self.c, self.c, self.n)\n",
        "    \n",
        "    for j in range(self.c):\n",
        "      r_ij_top[j] = self.pi_d * (self.pi_c[j] * stats.multivariate_normal(self.mu_c[j], self.co_c[j]).pdf(self.X))\n",
        "      for k in range(self.c):\n",
        "        r_ijk_top[j][k] = (1-self.pi_d) * (self.pi_cc[j][k] * stats.multivariate_normal(self.mu_c[j] + self.mu_c[k], self.co_c[j] + self.co_c[k]).pdf(self.X))\n",
        "\n",
        "    ## for 2)\n",
        "    #r_ij_top = torch.zeros(c, n)\n",
        "    #for j in range(c):\n",
        "    #  r_ij_top[j] = pi_d * (pi_c[j] * stats.multivariate_normal(mu_c[j], co_c[j]).pdf(X))\n",
        "\n",
        "    r_ij_bot = torch.sum(r_ij_top, 0) #for 1)\n",
        "    self.r_ij = r_ij_top / r_ij_bot\n",
        "  \n",
        "    ## for 3)\n",
        "    #r_ijk_top = torch.zeros(c, c, n) \n",
        "    #for j in range(c):\n",
        "    #  for k in range(c):\n",
        "    #    r_ijk_top[j][k] = (1-pi_d) * (pi_cc[j][k] * stats.multivariate_normal(mu_c[j] + mu_c[k], co_c[j] + co_c[k]).pdf(X))\n",
        "\n",
        "    r_ijk_bot = torch.sum(torch.sum(r_ijk_top, 0), 0) #for 1)\n",
        "    self.r_ijk = r_ijk_top / r_ijk_bot\n",
        "\n",
        "    ## for 1)\n",
        "    self.r_i = r_ij_bot / (r_ij_bot + r_ijk_bot)\n",
        "\n",
        "    ## compute log-likelihood\n",
        "    logl = torch.sum(torch.log(r_ij_bot) + torch.log(r_ijk_bot))\n",
        "\n",
        "    ## predictions\n",
        "    pred0 = torch.max(self.r_ij, 0).indices\n",
        "    #d0pred\n",
        "\n",
        "    pred1 = torch.zeros(self.n, 2)\n",
        "    for i in range(self.n):\n",
        "      pred1[i,:] = torch.tensor(np.unravel_index(self.r_ijk[:,:,i].argmax(), self.r_ijk[:,:,i].shape))\n",
        "    #d1pred\n",
        "\n",
        "    return(logl, pred0, pred1)\n",
        "\n",
        "  def mstep(self):\n",
        "\n",
        "    ### M-step:\n",
        "  \n",
        "    ## update pi\n",
        "    self.pi_d = torch.sum(self.r_i) / n #(one value)\n",
        "  \n",
        "    ## update pi_c (c values)\n",
        "    self.n_c = torch.sum(self.r_i * self.r_ij, 1) ## number of points in n_c\n",
        "    self.pi_c = self.n_c / sum(self.n_c)\n",
        "    #pi_c = r_i * r_ij / n\n",
        "  \n",
        "    ## update pi_cc (cxc upper triangular matrix)\n",
        "    self.n_cc = torch.sum(((1 - self.r_i) * self.r_ijk).T, 0).T ## number of points in each n_cc\n",
        "    self.pi_cc = self.n_cc / torch.sum(self.n_cc)\n",
        "    #pi_cc = (1 - r_i) * r_ijk / n\n",
        "  \n",
        "    ## update mu_cj and sigma_cj\n",
        "    bot1 = 0; bot2 = 0\n",
        "    m_top1 = 0; c_top1 = 0\n",
        "    m_top2 = 0; c_top2 = 0\n",
        "  \n",
        "    for j in range(c):\n",
        "    \n",
        "      for i in range(n):\n",
        "        w1 = r_i[i] * r_ij[j,i]\n",
        "        bot1 += w1\n",
        "    \n",
        "        m_top1 += w1 * torch.tensor([X.iloc[i,:]])\n",
        "\n",
        "        top_ker1 = torch.tensor([X.iloc[i,:]]) - mu_c[j,:]\n",
        "        c_top1 += w1 * (top_ker1.T * top_ker1)\n",
        "\n",
        "        for k in range(c):\n",
        "          w2 = (1-r_i[i]) * r_ijk[j,k,i]\n",
        "          bot2 += w2\n",
        "      \n",
        "          m_top2 += w2 * (torch.tensor([X.iloc[i,:]]) - mu_c[k,:])\n",
        "      \n",
        "          top_ker2 = torch.tensor([X.iloc[i,:]]) - (mu_c[j,:] + mu_c[k,:])    \n",
        "          c_top2 += w2 * ((top_ker2.T * top_ker2) - co_c[k,:])\n",
        "\n",
        "      self.mu_c[j] = (m_top1 + m_top2) / (bot1 + bot2)\n",
        "      self.co_c[j] = (c_top1 + c_top2) / (bot1 + bot2)\n",
        "\n",
        "    #return(pi_d, n_c, pi_c, n_cc, pi_cc, mu_c, co_c)\n",
        "\n",
        "  \n"
      ],
      "execution_count": 92,
      "outputs": []
    },
    {
      "cell_type": "code",
      "metadata": {
        "id": "QLGoRTiRxn5K"
      },
      "source": [
        "n = 150\n",
        "\n",
        "### E-step:\n",
        "## calculate 1) pi_i => d; 2) pi_j => z; 3) pi_jk => gamma\n",
        "## first compute 2) and 3) and then 1)\n",
        "\n",
        "## for 2)\n",
        "r_ij_top = torch.zeros(c, n) \n",
        "for j in range(c):\n",
        "  r_ij_top[j] = pi_d * (pi_c[j] * stats.multivariate_normal(mu_c[j], co_c[j]).pdf(X))\n",
        "\n",
        "r_ij_bot = torch.sum(r_ij_top, 0) #for 1)\n",
        "r_ij = r_ij_top / r_ij_bot\n",
        "\n",
        "## for 3)\n",
        "r_ijk_top = torch.zeros(c, c, n) \n",
        "for j in range(c):\n",
        "  for k in range(c):\n",
        "    r_ijk_top[j][k] = (1-pi_d) * (pi_cc[j][k] * \n",
        "                             stats.multivariate_normal(mu_c[j] + mu_c[k], co_c[j] + co_c[k]).pdf(X))\n",
        "\n",
        "r_ijk_bot = torch.sum(torch.sum(r_ijk_top, 0), 0) #for 1)\n",
        "r_ijk = r_ijk_top / r_ijk_bot\n",
        "\n",
        "r_i = r_ij_bot / (r_ij_bot + r_ijk_bot)\n",
        "\n",
        "## compute log-likelihood\n",
        "logl = torch.sum(torch.log(r_ij_bot) + torch.log(r_ijk_bot))\n",
        "\n",
        "## predictions\n",
        "d0pred = torch.max(r_ij, 0).indices\n",
        "#d0pred\n",
        "\n",
        "d1pred = torch.zeros(n, 2)\n",
        "for i in range(n):\n",
        "  d1pred[i,:] = torch.tensor(np.unravel_index(r_ijk[:,:,i].argmax(), r_ijk[:,:,i].shape))\n",
        "#d1pred\n",
        "\n",
        "### E-step:\n",
        "\n",
        "## update pi\n",
        "pi_d = torch.sum(r_i) / n #(one value)\n",
        "\n",
        "## update pi_c (c values)\n",
        "n_c = torch.sum(r_i * r_ij, 1) ## number of points in n_c\n",
        "pi_c = n_c / sum(n_c)\n",
        "#pi_c = r_i * r_ij / n\n",
        "\n",
        "## update pi_cc (cxc upper triangular matrix)\n",
        "n_cc = torch.sum(((1 - r_i) * r_ijk).T, 0).T ## number of points in each n_cc\n",
        "pi_cc = n_cc / torch.sum(n_cc)\n",
        "#pi_cc = (1 - r_i) * r_ijk / n\n",
        "\n",
        "## update mu_cj and sigma_cj\n",
        "bot1 = 0; bot2 = 0\n",
        "m_top1 = 0; c_top1 = 0\n",
        "m_top2 = 0; c_top2 = 0\n",
        "\n",
        "for j in range(c):\n",
        "\n",
        "  for i in range(n):\n",
        "    \n",
        "    w1 = r_i[i] * r_ij[j,i]\n",
        "    bot1 += w1\n",
        "    \n",
        "    m_top1 += w1 * torch.tensor([X.iloc[i,:]])\n",
        "\n",
        "    top_ker1 = torch.tensor([X.iloc[i,:]]) - mu_c[j,:]\n",
        "    c_top1 += w1 * (top_ker1.T * top_ker1)\n",
        "\n",
        "    for k in range(c):\n",
        "      w2 = (1-r_i[i]) * r_ijk[j,k,i]\n",
        "      bot2 += w2\n",
        "      \n",
        "      m_top2 += w2 * (torch.tensor([X.iloc[i,:]]) - mu_c[k,:])\n",
        "      \n",
        "      top_ker2 = torch.tensor([X.iloc[i,:]]) - (mu_c[j,:] + mu_c[k,:])    \n",
        "      c_top2 += w2 * ((top_ker2.T * top_ker2) - co_c[k,:])\n",
        "\n",
        "  mu_c[j] = (m_top1 + m_top2) / (bot1 + bot2)\n",
        "  co_c[j] = (c_top1 + c_top2) / (bot1 + bot2)"
      ],
      "execution_count": 66,
      "outputs": []
    },
    {
      "cell_type": "code",
      "metadata": {
        "colab": {
          "base_uri": "https://localhost:8080/"
        },
        "id": "bTzF7JvAp983",
        "outputId": "30ba0c17-576d-4a27-b1bf-cb8f0fc2047e"
      },
      "source": [
        "pi_d"
      ],
      "execution_count": 67,
      "outputs": [
        {
          "output_type": "execute_result",
          "data": {
            "text/plain": [
              "tensor(1.)"
            ]
          },
          "metadata": {
            "tags": []
          },
          "execution_count": 67
        }
      ]
    },
    {
      "cell_type": "code",
      "metadata": {
        "colab": {
          "base_uri": "https://localhost:8080/"
        },
        "id": "ifJd-2yGqHbE",
        "outputId": "3823cd1f-f28f-44c8-d411-8716ff43d9ed"
      },
      "source": [
        "pi_c"
      ],
      "execution_count": 68,
      "outputs": [
        {
          "output_type": "execute_result",
          "data": {
            "text/plain": [
              "tensor([0.2469, 0.3333, 0.4197])"
            ]
          },
          "metadata": {
            "tags": []
          },
          "execution_count": 68
        }
      ]
    },
    {
      "cell_type": "code",
      "metadata": {
        "colab": {
          "base_uri": "https://localhost:8080/"
        },
        "id": "oSkYNyVaqKsh",
        "outputId": "7b01780d-c6ba-4a0a-c14f-2415eb119dad"
      },
      "source": [
        "pi_cc"
      ],
      "execution_count": 69,
      "outputs": [
        {
          "output_type": "execute_result",
          "data": {
            "text/plain": [
              "tensor([[4.4567e-15, 2.0429e-05, 3.7457e-06],\n",
              "        [0.0000e+00, 0.0000e+00, 1.2777e-02],\n",
              "        [0.0000e+00, 0.0000e+00, 9.8720e-01]])"
            ]
          },
          "metadata": {
            "tags": []
          },
          "execution_count": 69
        }
      ]
    },
    {
      "cell_type": "code",
      "metadata": {
        "colab": {
          "base_uri": "https://localhost:8080/"
        },
        "id": "PQYLFi0tG_Tl",
        "outputId": "3cd0beec-c33e-4d4e-c0a4-3df2f4376727"
      },
      "source": [
        "n_cc"
      ],
      "execution_count": 20,
      "outputs": [
        {
          "output_type": "execute_result",
          "data": {
            "text/plain": [
              "tensor([[3.7190e-21, 1.7048e-11, 3.1256e-12],\n",
              "        [0.0000e+00, 0.0000e+00, 1.0662e-08],\n",
              "        [0.0000e+00, 0.0000e+00, 8.2378e-07]])"
            ]
          },
          "metadata": {
            "tags": []
          },
          "execution_count": 20
        }
      ]
    },
    {
      "cell_type": "code",
      "metadata": {
        "colab": {
          "base_uri": "https://localhost:8080/"
        },
        "id": "bD7yEgaYNf_n",
        "outputId": "71feea20-6d08-4034-e2b2-ab06bab98b22"
      },
      "source": [
        "pi_cc"
      ],
      "execution_count": 21,
      "outputs": [
        {
          "output_type": "execute_result",
          "data": {
            "text/plain": [
              "tensor([[4.4567e-15, 2.0429e-05, 3.7457e-06],\n",
              "        [0.0000e+00, 0.0000e+00, 1.2777e-02],\n",
              "        [0.0000e+00, 0.0000e+00, 9.8720e-01]])"
            ]
          },
          "metadata": {
            "tags": []
          },
          "execution_count": 21
        }
      ]
    },
    {
      "cell_type": "code",
      "metadata": {
        "colab": {
          "base_uri": "https://localhost:8080/"
        },
        "id": "J5D8DmnZVuZl",
        "outputId": "a2a48eb1-02fb-49a0-e514-35bd338115fb"
      },
      "source": [
        "n_c"
      ],
      "execution_count": 22,
      "outputs": [
        {
          "output_type": "execute_result",
          "data": {
            "text/plain": [
              "tensor([37.0421, 50.0000, 62.9579])"
            ]
          },
          "metadata": {
            "tags": []
          },
          "execution_count": 22
        }
      ]
    },
    {
      "cell_type": "code",
      "metadata": {
        "id": "EoTBWc-WVwrR"
      },
      "source": [
        "pi_c"
      ],
      "execution_count": null,
      "outputs": []
    },
    {
      "cell_type": "code",
      "metadata": {
        "colab": {
          "base_uri": "https://localhost:8080/"
        },
        "id": "hXlGJQURA-A5",
        "outputId": "58509ec0-0140-4563-8d6c-0b1b69b6fd5b"
      },
      "source": [
        "#tensor([[6.8500, 3.0737, 5.7421, 2.0711],\n",
        "#        [5.0060, 3.4280, 1.4620, 0.2460],\n",
        "#        [5.9016, 2.7484, 4.3935, 1.4339]], dtype=torch.float64)\n",
        "mu_c"
      ],
      "execution_count": 15,
      "outputs": [
        {
          "output_type": "execute_result",
          "data": {
            "text/plain": [
              "tensor([[6.7986, 3.0524, 5.7335, 2.0876],\n",
              "        [5.7689, 3.2681, 3.2798, 1.0297],\n",
              "        [5.8433, 3.0573, 3.7580, 1.1993]], dtype=torch.float64)"
            ]
          },
          "metadata": {
            "tags": []
          },
          "execution_count": 15
        }
      ]
    },
    {
      "cell_type": "code",
      "metadata": {
        "colab": {
          "base_uri": "https://localhost:8080/"
        },
        "id": "4i5fP-PyEFDI",
        "outputId": "038e404e-617a-45f5-b1fa-44cc8e25e01b"
      },
      "source": [
        "#tensor([[[0.2442, 0.0254, 0.1773, 0.0055],\n",
        "#         [0.0254, 0.0842, 0.0122, 0.0344],\n",
        "#         [0.1773, 0.0122, 0.2387, 0.0253],\n",
        "#         [0.0055, 0.0344, 0.0253, 0.0783]],\n",
        "\n",
        "#        [[0.1242, 0.0992, 0.0164, 0.0103],\n",
        "#         [0.0992, 0.1437, 0.0117, 0.0093],\n",
        "#         [0.0164, 0.0117, 0.0302, 0.0061],\n",
        "#         [0.0103, 0.0093, 0.0061, 0.0111]],\n",
        "\n",
        "#        [[0.2175, 0.0637, 0.1343, 0.0345],\n",
        "#         [0.0637, 0.0878, 0.0549, 0.0290],\n",
        "#         [0.1343, 0.0549, 0.2590, 0.1214],\n",
        "#         [0.0345, 0.0290, 0.1214, 0.0885]]])\n",
        "\n",
        "co_c"
      ],
      "execution_count": 16,
      "outputs": [
        {
          "output_type": "execute_result",
          "data": {
            "text/plain": [
              "tensor([[[0.3064, 0.0464, 0.2257, 0.0087],\n",
              "         [0.0464, 0.0929, 0.0299, 0.0367],\n",
              "         [0.2257, 0.0299, 0.2502, 0.0147],\n",
              "         [0.0087, 0.0367, 0.0147, 0.0751]],\n",
              "\n",
              "        [[0.2003, 0.0756, 0.1052, 0.0095],\n",
              "         [0.0756, 0.1204, 0.0193, 0.0208],\n",
              "         [0.1052, 0.0193, 0.1234, 0.0097],\n",
              "         [0.0095, 0.0208, 0.0097, 0.0382]],\n",
              "\n",
              "        [[0.2191, 0.0757, 0.1310, 0.0268],\n",
              "         [0.0757, 0.1075, 0.0398, 0.0266],\n",
              "         [0.1310, 0.0398, 0.1914, 0.0589],\n",
              "         [0.0268, 0.0266, 0.0589, 0.0563]]])"
            ]
          },
          "metadata": {
            "tags": []
          },
          "execution_count": 16
        }
      ]
    },
    {
      "cell_type": "code",
      "metadata": {
        "id": "uep1gLnYBgcy"
      },
      "source": [
        "## update mu_cj\n",
        "top1 = 0; bot1 = 0\n",
        "top2 = 0; bot2 = 0\n",
        "for j in range(c):\n",
        "\n",
        "  for i in range(n):\n",
        "    \n",
        "    w1 = r_i[i] * r_ij[j,i]\n",
        "    bot1 += w1\n",
        "    top1 += torch.tensor([X.iloc[i,:]]) * w1\n",
        "    \n",
        "    for k in range(c):\n",
        "      w2 = (1-r_i[i]) * r_ijk[j,k,i]\n",
        "      bot2 += w2\n",
        "      top2 += (torch.tensor([X.iloc[i,:]]) - mu_c[k,:]) * w2\n",
        "      \n",
        "  mu_c[j] = (top1 + top2) / (bot1 + bot2)\n",
        "\n",
        "## update sigma_cj\n",
        "top1 = 0; bot1 = 0\n",
        "top2 = 0; bot2 = 0\n",
        "for j in range(c):\n",
        "  \n",
        "  for i in range(n):\n",
        "    top_ker1 = torch.tensor([X.iloc[i,:]]) - mu_c[j,:]\n",
        "    w1 = r_i[i] * r_ij[j,i]\n",
        "    bot1 += w1\n",
        "    top1 += w1 * (top_ker1.T * top_ker1)\n",
        "\n",
        "    top_ker2 = torch.tensor([X.iloc[i,:]]) - (mu_c[j,:] + mu_c[k,:])    \n",
        "    for k in range(c):\n",
        "      w2 = (1-r_i[i]) * r_ijk[j,k,i]\n",
        "      bot2 += w2\n",
        "      top2 += w2 * ((top_ker2.T * top_ker2) - co_c[k,:])\n",
        "  \n",
        "  co_c[j] = (top1 + top2) / (bot1 + bot2)"
      ],
      "execution_count": 237,
      "outputs": []
    },
    {
      "cell_type": "code",
      "metadata": {
        "id": "BXxt02vVTYX8"
      },
      "source": [
        "top1 = 0; bot1 = 0\n",
        "top2 = 0; bot2 = 0\n",
        "for j in range(c):\n",
        "  \n",
        "  for i in range(n):\n",
        "    top_ker1 = torch.tensor([X.iloc[i,:]]) - mu_c[j,:]\n",
        "    w1 = r_i[i] * r_ij[j,i]\n",
        "    bot1 += w1\n",
        "    top1 += w1 * (top_ker1.T * top_ker1)\n",
        "\n",
        "    top_ker2 = torch.tensor([X.iloc[i,:]]) - (mu_c[j,:] + mu_c[k,:])    \n",
        "    for k in range(c):\n",
        "      w2 = (1-r_i[i]) * r_ijk[j,k,i]\n",
        "      bot2 += w2\n",
        "      top2 += w2 * ((top_ker2.T * top_ker2) - co_c[k])\n",
        "  co_c[j] = (top1 + top2) / (bot1 + bot2)"
      ],
      "execution_count": 209,
      "outputs": []
    },
    {
      "cell_type": "code",
      "metadata": {
        "id": "mQEKrkbDwtqu"
      },
      "source": [
        "\n",
        "\n",
        "## EM algorithm\n",
        "llv = [0.0]\n",
        "for iter in range(itermax):\n",
        "  lli = estep()\n",
        "  mstep()\n",
        "      \n",
        "  print('Iteration', iter + 1, 'Likelihood: ', lli)\n",
        "        \n",
        "  if abs(llv[-1] - lli) < 1e-4:\n",
        "    break \n",
        "      \n",
        "  llv.append(lli)\n"
      ],
      "execution_count": null,
      "outputs": []
    }
  ]
}