{
  "nbformat": 4,
  "nbformat_minor": 0,
  "metadata": {
    "colab": {
      "name": "gmm_em",
      "provenance": [],
      "authorship_tag": "ABX9TyNvfTtEmeCitlR0iQMv7N/r",
      "include_colab_link": true
    },
    "kernelspec": {
      "name": "python3",
      "display_name": "Python 3"
    },
    "language_info": {
      "name": "python"
    }
  },
  "cells": [
    {
      "cell_type": "markdown",
      "metadata": {
        "id": "view-in-github",
        "colab_type": "text"
      },
      "source": [
        "<a href=\"https://colab.research.google.com/github/Usually-zz/2021_IMC/blob/main/gmm_em.ipynb\" target=\"_parent\"><img src=\"https://colab.research.google.com/assets/colab-badge.svg\" alt=\"Open In Colab\"/></a>"
      ]
    },
    {
      "cell_type": "code",
      "metadata": {
        "id": "0nSjicgy6R9X"
      },
      "source": [
        "class GMM(object):\n",
        "  \n",
        "  def __init__(self, X, k=3):\n",
        "    self.X = np.asarray(X)\n",
        "    \n",
        "    # dimension\n",
        "    self.n, self.p = X.shape\n",
        "    #print(n)\n",
        "    #print(p)\n",
        "    # number of mixtures\n",
        "    self.k = k\n",
        "\n",
        "  def _init(self):\n",
        "    # init mixture means/sigmas\n",
        "    self.nj = torch.zeros(self.k)\n",
        "    self.wj = torch.ones(self.k) / self.k\n",
        "    self.muj = torch.ones(self.k, self.p)\n",
        "    self.coj = torch.zeros(self.k, self.p, self.p)\n",
        "    self.rij = torch.ones(self.k, self.n)\n",
        "    self.mvnj = torch.zeros(self.k, self.n) \n",
        "    self.pred = torch.zeros(self.n)\n",
        "    #muj, coj, rij, mvnj\n",
        "\n",
        "  def train(self, itermax=100):\n",
        "    \n",
        "    self._init() \n",
        "    self.gmmKmeansInitial()\n",
        "    \n",
        "    llv = [0.0]\n",
        "    for iter in range(itermax):\n",
        "      lli = self.estep()\n",
        "      self.mstep()\n",
        "      \n",
        "      print('Iteration', iter + 1, 'Likelihood: ', lli)\n",
        "        \n",
        "      if abs(llv[-1] - lli) < 1e-4:\n",
        "        break \n",
        "      \n",
        "      llv.append(lli)\n",
        "    return llv[1:]\n",
        "\n",
        "  def estep(self):\n",
        "    #mvnj = torch.zeros(k, X.shape[0]) \n",
        "    for j in range(self.k):\n",
        "      self.mvnj[j] = (self.wj[j] * stats.multivariate_normal(self.muj[j], self.coj[j]).pdf(self.X))\n",
        "      \n",
        "    bot = torch.sum(self.mvnj, 0)\n",
        "    self.rij = self.mvnj / bot\n",
        "    logl = torch.sum(torch.log(bot))\n",
        "      \n",
        "    self.pred = torch.max(self.rij, 0).indices\n",
        "    \n",
        "    return logl\n",
        "\n",
        "  def mstep(self):\n",
        "\n",
        "    d = torch.from_numpy(np.array(self.X))\n",
        "    \n",
        "    self.nj = torch.sum(self.rij, 1)\n",
        "    self.wj = self.nj / sum(self.nj) ## same as nj / n\n",
        "  \n",
        "    for j in range(self.k):\n",
        "      self.muj[j] = torch.sum(d.T * self.rij[j], 1) / self.nj[j]\n",
        "\n",
        "    for j in range(self.k):\n",
        "      ker = (d - self.muj[j]).T * self.rij[j]\n",
        "      self.coj[j] = torch.matmul(ker, ker.T)/self.nj[j]\n",
        "\n",
        "  def gmmKmeansInitial(self):\n",
        "    \n",
        "    kmeans = KMeans(n_clusters=self.k, random_state=0).fit(self.X)\n",
        "    self.muj = torch.tensor(kmeans.cluster_centers_)\n",
        "  \n",
        "    for j in range(self.k):\n",
        "      indx = kmeans.labels_ == j\n",
        "      d = self.X[indx]\n",
        "      self.nj[j] = sum(indx)\n",
        "      #muj.append(np.array(d.mean(axis=0)))\n",
        "      self.coj[j] = torch.from_numpy(np.cov(d.T))\n",
        "    \n",
        "    self.wj = self.nj / torch.sum(self.nj)"
      ],
      "execution_count": null,
      "outputs": []
    },
    {
      "cell_type": "code",
      "metadata": {
        "id": "3Unhjg0Y6dzK"
      },
      "source": [
        "import torch\n",
        "import numpy as np\n",
        "import scipy.stats as stats ## for mvn\n",
        "from sklearn.cluster import KMeans\n",
        "import seaborn as sns"
      ],
      "execution_count": null,
      "outputs": []
    },
    {
      "cell_type": "code",
      "metadata": {
        "colab": {
          "base_uri": "https://localhost:8080/"
        },
        "id": "D_8ilh1e6lTl",
        "outputId": "54157fe2-673a-41cd-a66d-66c2b7efd252"
      },
      "source": [
        "## try iris data\n",
        "k = 3\n",
        "iris = sns.load_dataset(\"iris\")\n",
        "X = iris.iloc[:,:4]\n",
        "y = iris.iloc[:,4]\n",
        "\n",
        "gmm = GMM(X)\n",
        "lls = gmm.train()"
      ],
      "execution_count": null,
      "outputs": [
        {
          "output_type": "stream",
          "text": [
            "Iteration 1 Likelihood:  tensor(-197.3202)\n",
            "Iteration 2 Likelihood:  tensor(-193.0827)\n",
            "Iteration 3 Likelihood:  tensor(-191.4538)\n",
            "Iteration 4 Likelihood:  tensor(-189.7725)\n",
            "Iteration 5 Likelihood:  tensor(-188.4172)\n",
            "Iteration 6 Likelihood:  tensor(-186.6134)\n",
            "Iteration 7 Likelihood:  tensor(-184.5180)\n",
            "Iteration 8 Likelihood:  tensor(-183.0643)\n",
            "Iteration 9 Likelihood:  tensor(-182.3152)\n",
            "Iteration 10 Likelihood:  tensor(-181.4987)\n",
            "Iteration 11 Likelihood:  tensor(-180.6420)\n",
            "Iteration 12 Likelihood:  tensor(-180.4911)\n",
            "Iteration 13 Likelihood:  tensor(-180.4788)\n",
            "Iteration 14 Likelihood:  tensor(-180.4806)\n",
            "Iteration 15 Likelihood:  tensor(-180.4832)\n",
            "Iteration 16 Likelihood:  tensor(-180.4847)\n",
            "Iteration 17 Likelihood:  tensor(-180.4854)\n",
            "Iteration 18 Likelihood:  tensor(-180.4857)\n",
            "Iteration 19 Likelihood:  tensor(-180.4858)\n",
            "Iteration 20 Likelihood:  tensor(-180.4859)\n"
          ],
          "name": "stdout"
        }
      ]
    },
    {
      "cell_type": "code",
      "metadata": {
        "colab": {
          "base_uri": "https://localhost:8080/"
        },
        "id": "R_q1kGit7D87",
        "outputId": "3c30351e-29c1-42db-d8d0-82ccd8c8ec1f"
      },
      "source": [
        "gmm.pred"
      ],
      "execution_count": null,
      "outputs": [
        {
          "output_type": "execute_result",
          "data": {
            "text/plain": [
              "tensor([1, 1, 1, 1, 1, 1, 1, 1, 1, 1, 1, 1, 1, 1, 1, 1, 1, 1, 1, 1, 1, 1, 1, 1,\n",
              "        1, 1, 1, 1, 1, 1, 1, 1, 1, 1, 1, 1, 1, 1, 1, 1, 1, 1, 1, 1, 1, 1, 1, 1,\n",
              "        1, 1, 2, 2, 2, 2, 2, 2, 2, 2, 2, 2, 2, 2, 2, 2, 2, 2, 2, 2, 0, 2, 0, 2,\n",
              "        0, 2, 2, 2, 2, 0, 2, 2, 2, 2, 2, 0, 2, 2, 2, 2, 2, 2, 2, 2, 2, 2, 2, 2,\n",
              "        2, 2, 2, 2, 0, 0, 0, 0, 0, 0, 0, 0, 0, 0, 0, 0, 0, 0, 0, 0, 0, 0, 0, 0,\n",
              "        0, 0, 0, 0, 0, 0, 0, 0, 0, 0, 0, 0, 0, 0, 0, 0, 0, 0, 0, 0, 0, 0, 0, 0,\n",
              "        0, 0, 0, 0, 0, 0])"
            ]
          },
          "metadata": {
            "tags": []
          },
          "execution_count": 6
        }
      ]
    },
    {
      "cell_type": "code",
      "metadata": {
        "colab": {
          "base_uri": "https://localhost:8080/"
        },
        "id": "KS2HExQlKLBJ",
        "outputId": "62c7f93e-fe82-4343-f4a5-3f67da885c8c"
      },
      "source": [
        "gmm.rij.shape"
      ],
      "execution_count": null,
      "outputs": [
        {
          "output_type": "execute_result",
          "data": {
            "text/plain": [
              "torch.Size([3, 150])"
            ]
          },
          "metadata": {
            "tags": []
          },
          "execution_count": 8
        }
      ]
    },
    {
      "cell_type": "code",
      "metadata": {
        "colab": {
          "base_uri": "https://localhost:8080/"
        },
        "id": "hL6FgIeu70hr",
        "outputId": "1dc11357-2a68-4244-dc3a-187788e625e0"
      },
      "source": [
        "from sklearn.metrics import confusion_matrix\n",
        "targets = torch.cat((torch.tensor([1]).repeat(50), torch.tensor([2]).repeat(50), torch.tensor([0]).repeat(50)))\n",
        "confusion_matrix(targets, gmm.pred)"
      ],
      "execution_count": null,
      "outputs": [
        {
          "output_type": "execute_result",
          "data": {
            "text/plain": [
              "array([[50,  0,  0],\n",
              "       [ 0, 50,  0],\n",
              "       [ 5,  0, 45]])"
            ]
          },
          "metadata": {
            "tags": []
          },
          "execution_count": 8
        }
      ]
    },
    {
      "cell_type": "code",
      "metadata": {
        "id": "6GmcKY_Quhzd"
      },
      "source": [
        "import sklearn.datasets\n",
        "\n",
        "## generate data\n",
        "n = 1000; p = 15; k = 5 #np.random.randint(2, 7)\n",
        "#XX = torch.tensor(sklearn.datasets.make_spd_matrix(n, p))"
      ],
      "execution_count": null,
      "outputs": []
    },
    {
      "cell_type": "code",
      "metadata": {
        "id": "fwXyXBLDWVhE"
      },
      "source": [
        "## generate random data\n",
        "ww = torch.rand(k); wj = ww/sum(ww)\n",
        "muj = torch.zeros((k, p))\n",
        "coj = torch.zeros((k, p, p))"
      ],
      "execution_count": null,
      "outputs": []
    },
    {
      "cell_type": "code",
      "metadata": {
        "id": "gSnlGDQcWdvd"
      },
      "source": [
        "for j in range(k):\n",
        "  ## means\n",
        "  muj[j] = 10 * torch.randn(p)\n",
        "\n",
        "  ## covariance matrix\n",
        "  mat = torch.rand(p, p)\n",
        "  mat = torch.mm(mat, mat.t())\n",
        "  coj[j].add_(torch.eye(p))"
      ],
      "execution_count": null,
      "outputs": []
    },
    {
      "cell_type": "code",
      "metadata": {
        "id": "mNHF400cZXRE"
      },
      "source": [
        "samples = np.zeros((n, p+1))\n",
        "u = np.random.uniform(size=n)"
      ],
      "execution_count": null,
      "outputs": []
    },
    {
      "cell_type": "code",
      "metadata": {
        "id": "7v8MUB0WCHVz"
      },
      "source": [
        "for i in range(n):\n",
        "  for j in range(k):\n",
        "    if u[i] < sum(wj[:(j+1)]):\n",
        "      samples[i] = np.append(np.random.multivariate_normal(muj[j], coj[j], 1), [j])\n",
        "      break"
      ],
      "execution_count": null,
      "outputs": []
    },
    {
      "cell_type": "code",
      "metadata": {
        "colab": {
          "base_uri": "https://localhost:8080/"
        },
        "id": "gjnazSkRcG-p",
        "outputId": "73a778a0-5d26-43de-fc3f-4e297cbe2f66"
      },
      "source": [
        "tgmm = GMM(samples[:,:p], k)"
      ],
      "execution_count": null,
      "outputs": [
        {
          "output_type": "stream",
          "text": [
            "1000\n",
            "15\n"
          ],
          "name": "stdout"
        }
      ]
    },
    {
      "cell_type": "code",
      "metadata": {
        "colab": {
          "base_uri": "https://localhost:8080/"
        },
        "id": "XBjnCq98nUVF",
        "outputId": "ae61ed47-6d3b-4c39-d57f-54958bb64a5b"
      },
      "source": [
        "tlls = tgmm.train()"
      ],
      "execution_count": null,
      "outputs": [
        {
          "output_type": "stream",
          "text": [
            "Iteration 1 Likelihood:  tensor(-27722.5117)\n",
            "Iteration 2 Likelihood:  tensor(-27722.3984)\n",
            "Iteration 3 Likelihood:  tensor(-27722.3984)\n"
          ],
          "name": "stdout"
        }
      ]
    },
    {
      "cell_type": "code",
      "metadata": {
        "colab": {
          "base_uri": "https://localhost:8080/"
        },
        "id": "4o-mTa5Ftdpa",
        "outputId": "e9c49c02-63d7-4855-c482-8f6b8ee3a0e2"
      },
      "source": [
        "tlls"
      ],
      "execution_count": null,
      "outputs": [
        {
          "output_type": "execute_result",
          "data": {
            "text/plain": [
              "[tensor(-27722.5117), tensor(-27722.3984)]"
            ]
          },
          "metadata": {
            "tags": []
          },
          "execution_count": 95
        }
      ]
    },
    {
      "cell_type": "code",
      "metadata": {
        "colab": {
          "base_uri": "https://localhost:8080/"
        },
        "id": "_sQMJFCYx1DB",
        "outputId": "3de78649-21da-479c-fda4-0fc66bb76428"
      },
      "source": [
        "np.unique(tgmm.pred)"
      ],
      "execution_count": null,
      "outputs": [
        {
          "output_type": "execute_result",
          "data": {
            "text/plain": [
              "array([0, 1, 2, 3, 4])"
            ]
          },
          "metadata": {
            "tags": []
          },
          "execution_count": 96
        }
      ]
    },
    {
      "cell_type": "code",
      "metadata": {
        "id": "VtG0I_G7KH2b"
      },
      "source": [
        "class GMM(object):\n",
        "    def __init__(self, X, k=2):\n",
        "        # dimension\n",
        "        X = np.asarray(X)\n",
        "        self.m, self.n = X.shape\n",
        "        self.data = X.copy()\n",
        "        # number of mixtures\n",
        "        self.k = k\n",
        "        \n",
        "    def _init(self):\n",
        "        # init mixture means/sigmas\n",
        "        self.mean_arr = np.asmatrix(np.random.random((self.k, self.n)))\n",
        "        self.sigma_arr = np.array([np.asmatrix(np.identity(self.n)) for i in range(self.k)])\n",
        "        self.phi = np.ones(self.k)/self.k\n",
        "        self.w = np.asmatrix(np.empty((self.m, self.k), dtype=float))\n",
        "        #print(self.mean_arr)\n",
        "        #print(self.sigma_arr)\n",
        "    \n",
        "    def fit(self, tol=1e-4):\n",
        "        self._init()\n",
        "        num_iters = 0\n",
        "        ll = 1\n",
        "        previous_ll = 0\n",
        "        while(ll-previous_ll > tol):\n",
        "            previous_ll = self.loglikelihood()\n",
        "            self._fit()\n",
        "            num_iters += 1\n",
        "            ll = self.loglikelihood()\n",
        "            print('Iteration %d: log-likelihood is %.6f'%(num_iters, ll))\n",
        "        print('Terminate at %d-th iteration:log-likelihood is %.6f'%(num_iters, ll))\n",
        "    \n",
        "    def loglikelihood(self):\n",
        "        ll = 0\n",
        "        for i in range(self.m):\n",
        "            tmp = 0\n",
        "            for j in range(self.k):\n",
        "                #print(self.sigma_arr[j])\n",
        "                tmp += sp.stats.multivariate_normal.pdf(self.data[i, :], \n",
        "                                                        self.mean_arr[j, :].A1, \n",
        "                                                        self.sigma_arr[j, :]) *\\\n",
        "                       self.phi[j]\n",
        "            ll += np.log(tmp) \n",
        "        return ll\n",
        "    \n",
        "    def _fit(self):\n",
        "        self.e_step()\n",
        "        self.m_step()\n",
        "        \n",
        "    def e_step(self):\n",
        "        # calculate w_j^{(i)}\n",
        "        for i in range(self.m):\n",
        "            den = 0\n",
        "            for j in range(self.k):\n",
        "                num = sp.stats.multivariate_normal.pdf(self.data[i, :], \n",
        "                                                       self.mean_arr[j].A1, \n",
        "                                                       self.sigma_arr[j]) *\\\n",
        "                      self.phi[j]\n",
        "                den += num\n",
        "                self.w[i, j] = num\n",
        "            self.w[i, :] /= den\n",
        "            assert self.w[i, :].sum() - 1 < 1e-4\n",
        "            \n",
        "    def m_step(self):\n",
        "        for j in range(self.k):\n",
        "            const = self.w[:, j].sum()\n",
        "            self.phi[j] = 1/self.m * const\n",
        "            _mu_j = np.zeros(self.n)\n",
        "            _sigma_j = np.zeros((self.n, self.n))\n",
        "            for i in range(self.m):\n",
        "                _mu_j += (self.data[i, :] * self.w[i, j])\n",
        "                _sigma_j += self.w[i, j] * ((self.data[i, :] - self.mean_arr[j, :]).T * (self.data[i, :] - self.mean_arr[j, :]))\n",
        "                #print((self.data[i, :] - self.mean_arr[j, :]).T * (self.data[i, :] - self.mean_arr[j, :]))\n",
        "                #print(_sigma_j)\n",
        "                print((self.data[i, :] - self.mean_arr[j, :]).T)\n",
        "                print((self.data[i, :] - self.mean_arr[j, :]))\n",
        "                adfd\n",
        "                #print(_sigma_j.shape)\n",
        "            self.mean_arr[j] = _mu_j / const\n",
        "            self.sigma_arr[j] = _sigma_j / const\n",
        "        #print(self.sigma_arr)"
      ],
      "execution_count": 21,
      "outputs": []
    },
    {
      "cell_type": "code",
      "metadata": {
        "id": "AnttjPkIyFCG",
        "outputId": "f4547aaa-5b77-449b-80dd-18ecd43dd4bf",
        "colab": {
          "base_uri": "https://localhost:8080/"
        }
      },
      "source": [
        "import numpy as np\n",
        "import scipy as sp\n",
        "\n",
        "X = np.random.multivariate_normal([0, 3], [[0.5, 0], [0, 0.8]], 20)\n",
        "X = np.vstack((X, np.random.multivariate_normal([20, 10], np.identity(2), 50)))\n",
        "X.shape"
      ],
      "execution_count": 3,
      "outputs": [
        {
          "output_type": "execute_result",
          "data": {
            "text/plain": [
              "(70, 2)"
            ]
          },
          "metadata": {
            "tags": []
          },
          "execution_count": 3
        }
      ]
    },
    {
      "cell_type": "code",
      "metadata": {
        "id": "_CJqflqJyMiV"
      },
      "source": [
        "import seaborn as sns\n",
        "from matplotlib import pyplot as plt\n",
        "%matplotlib inline\n",
        "\n"
      ],
      "execution_count": 4,
      "outputs": []
    },
    {
      "cell_type": "code",
      "metadata": {
        "id": "8LjaMp7ryUGl",
        "outputId": "d5b65476-f825-4595-b97e-eaec58710c20",
        "colab": {
          "base_uri": "https://localhost:8080/",
          "height": 400
        }
      },
      "source": [
        "gmm = GMM(X)\n",
        "gmm.fit()"
      ],
      "execution_count": 22,
      "outputs": [
        {
          "output_type": "stream",
          "text": [
            "[[-0.1361679 ]\n",
            " [ 2.91257148]]\n",
            "[[-0.1361679   2.91257148]]\n"
          ],
          "name": "stdout"
        },
        {
          "output_type": "error",
          "ename": "NameError",
          "evalue": "ignored",
          "traceback": [
            "\u001b[0;31m---------------------------------------------------------------------------\u001b[0m",
            "\u001b[0;31mNameError\u001b[0m                                 Traceback (most recent call last)",
            "\u001b[0;32m<ipython-input-22-9b9373a74991>\u001b[0m in \u001b[0;36m<module>\u001b[0;34m()\u001b[0m\n\u001b[1;32m      1\u001b[0m \u001b[0mgmm\u001b[0m \u001b[0;34m=\u001b[0m \u001b[0mGMM\u001b[0m\u001b[0;34m(\u001b[0m\u001b[0mX\u001b[0m\u001b[0;34m)\u001b[0m\u001b[0;34m\u001b[0m\u001b[0;34m\u001b[0m\u001b[0m\n\u001b[0;32m----> 2\u001b[0;31m \u001b[0mgmm\u001b[0m\u001b[0;34m.\u001b[0m\u001b[0mfit\u001b[0m\u001b[0;34m(\u001b[0m\u001b[0;34m)\u001b[0m\u001b[0;34m\u001b[0m\u001b[0;34m\u001b[0m\u001b[0m\n\u001b[0m",
            "\u001b[0;32m<ipython-input-21-d39ddc036a2d>\u001b[0m in \u001b[0;36mfit\u001b[0;34m(self, tol)\u001b[0m\n\u001b[1;32m     24\u001b[0m         \u001b[0;32mwhile\u001b[0m\u001b[0;34m(\u001b[0m\u001b[0mll\u001b[0m\u001b[0;34m-\u001b[0m\u001b[0mprevious_ll\u001b[0m \u001b[0;34m>\u001b[0m \u001b[0mtol\u001b[0m\u001b[0;34m)\u001b[0m\u001b[0;34m:\u001b[0m\u001b[0;34m\u001b[0m\u001b[0;34m\u001b[0m\u001b[0m\n\u001b[1;32m     25\u001b[0m             \u001b[0mprevious_ll\u001b[0m \u001b[0;34m=\u001b[0m \u001b[0mself\u001b[0m\u001b[0;34m.\u001b[0m\u001b[0mloglikelihood\u001b[0m\u001b[0;34m(\u001b[0m\u001b[0;34m)\u001b[0m\u001b[0;34m\u001b[0m\u001b[0;34m\u001b[0m\u001b[0m\n\u001b[0;32m---> 26\u001b[0;31m             \u001b[0mself\u001b[0m\u001b[0;34m.\u001b[0m\u001b[0m_fit\u001b[0m\u001b[0;34m(\u001b[0m\u001b[0;34m)\u001b[0m\u001b[0;34m\u001b[0m\u001b[0;34m\u001b[0m\u001b[0m\n\u001b[0m\u001b[1;32m     27\u001b[0m             \u001b[0mnum_iters\u001b[0m \u001b[0;34m+=\u001b[0m \u001b[0;36m1\u001b[0m\u001b[0;34m\u001b[0m\u001b[0;34m\u001b[0m\u001b[0m\n\u001b[1;32m     28\u001b[0m             \u001b[0mll\u001b[0m \u001b[0;34m=\u001b[0m \u001b[0mself\u001b[0m\u001b[0;34m.\u001b[0m\u001b[0mloglikelihood\u001b[0m\u001b[0;34m(\u001b[0m\u001b[0;34m)\u001b[0m\u001b[0;34m\u001b[0m\u001b[0;34m\u001b[0m\u001b[0m\n",
            "\u001b[0;32m<ipython-input-21-d39ddc036a2d>\u001b[0m in \u001b[0;36m_fit\u001b[0;34m(self)\u001b[0m\n\u001b[1;32m     45\u001b[0m     \u001b[0;32mdef\u001b[0m \u001b[0m_fit\u001b[0m\u001b[0;34m(\u001b[0m\u001b[0mself\u001b[0m\u001b[0;34m)\u001b[0m\u001b[0;34m:\u001b[0m\u001b[0;34m\u001b[0m\u001b[0;34m\u001b[0m\u001b[0m\n\u001b[1;32m     46\u001b[0m         \u001b[0mself\u001b[0m\u001b[0;34m.\u001b[0m\u001b[0me_step\u001b[0m\u001b[0;34m(\u001b[0m\u001b[0;34m)\u001b[0m\u001b[0;34m\u001b[0m\u001b[0;34m\u001b[0m\u001b[0m\n\u001b[0;32m---> 47\u001b[0;31m         \u001b[0mself\u001b[0m\u001b[0;34m.\u001b[0m\u001b[0mm_step\u001b[0m\u001b[0;34m(\u001b[0m\u001b[0;34m)\u001b[0m\u001b[0;34m\u001b[0m\u001b[0;34m\u001b[0m\u001b[0m\n\u001b[0m\u001b[1;32m     48\u001b[0m \u001b[0;34m\u001b[0m\u001b[0m\n\u001b[1;32m     49\u001b[0m     \u001b[0;32mdef\u001b[0m \u001b[0me_step\u001b[0m\u001b[0;34m(\u001b[0m\u001b[0mself\u001b[0m\u001b[0;34m)\u001b[0m\u001b[0;34m:\u001b[0m\u001b[0;34m\u001b[0m\u001b[0;34m\u001b[0m\u001b[0m\n",
            "\u001b[0;32m<ipython-input-21-d39ddc036a2d>\u001b[0m in \u001b[0;36mm_step\u001b[0;34m(self)\u001b[0m\n\u001b[1;32m     74\u001b[0m                 \u001b[0mprint\u001b[0m\u001b[0;34m(\u001b[0m\u001b[0;34m(\u001b[0m\u001b[0mself\u001b[0m\u001b[0;34m.\u001b[0m\u001b[0mdata\u001b[0m\u001b[0;34m[\u001b[0m\u001b[0mi\u001b[0m\u001b[0;34m,\u001b[0m \u001b[0;34m:\u001b[0m\u001b[0;34m]\u001b[0m \u001b[0;34m-\u001b[0m \u001b[0mself\u001b[0m\u001b[0;34m.\u001b[0m\u001b[0mmean_arr\u001b[0m\u001b[0;34m[\u001b[0m\u001b[0mj\u001b[0m\u001b[0;34m,\u001b[0m \u001b[0;34m:\u001b[0m\u001b[0;34m]\u001b[0m\u001b[0;34m)\u001b[0m\u001b[0;34m.\u001b[0m\u001b[0mT\u001b[0m\u001b[0;34m)\u001b[0m\u001b[0;34m\u001b[0m\u001b[0;34m\u001b[0m\u001b[0m\n\u001b[1;32m     75\u001b[0m                 \u001b[0mprint\u001b[0m\u001b[0;34m(\u001b[0m\u001b[0;34m(\u001b[0m\u001b[0mself\u001b[0m\u001b[0;34m.\u001b[0m\u001b[0mdata\u001b[0m\u001b[0;34m[\u001b[0m\u001b[0mi\u001b[0m\u001b[0;34m,\u001b[0m \u001b[0;34m:\u001b[0m\u001b[0;34m]\u001b[0m \u001b[0;34m-\u001b[0m \u001b[0mself\u001b[0m\u001b[0;34m.\u001b[0m\u001b[0mmean_arr\u001b[0m\u001b[0;34m[\u001b[0m\u001b[0mj\u001b[0m\u001b[0;34m,\u001b[0m \u001b[0;34m:\u001b[0m\u001b[0;34m]\u001b[0m\u001b[0;34m)\u001b[0m\u001b[0;34m)\u001b[0m\u001b[0;34m\u001b[0m\u001b[0;34m\u001b[0m\u001b[0m\n\u001b[0;32m---> 76\u001b[0;31m                 \u001b[0madfd\u001b[0m\u001b[0;34m\u001b[0m\u001b[0;34m\u001b[0m\u001b[0m\n\u001b[0m\u001b[1;32m     77\u001b[0m                 \u001b[0;31m#print(_sigma_j.shape)\u001b[0m\u001b[0;34m\u001b[0m\u001b[0;34m\u001b[0m\u001b[0;34m\u001b[0m\u001b[0m\n\u001b[1;32m     78\u001b[0m             \u001b[0mself\u001b[0m\u001b[0;34m.\u001b[0m\u001b[0mmean_arr\u001b[0m\u001b[0;34m[\u001b[0m\u001b[0mj\u001b[0m\u001b[0;34m]\u001b[0m \u001b[0;34m=\u001b[0m \u001b[0m_mu_j\u001b[0m \u001b[0;34m/\u001b[0m \u001b[0mconst\u001b[0m\u001b[0;34m\u001b[0m\u001b[0;34m\u001b[0m\u001b[0m\n",
            "\u001b[0;31mNameError\u001b[0m: name 'adfd' is not defined"
          ]
        }
      ]
    }
  ]
}